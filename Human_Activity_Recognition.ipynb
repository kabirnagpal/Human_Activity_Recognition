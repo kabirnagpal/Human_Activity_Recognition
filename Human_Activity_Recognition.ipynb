{
 "cells": [
  {
   "cell_type": "markdown",
   "metadata": {},
   "source": [
    "# Human Activity Recognition\n",
    "https://www.kaggle.com/uciml/human-activity-recognition-with-smartphones  \n",
    "The Human Activity Recognition database was built from the recordings of 30 study participants performing activities of daily living (ADL) while carrying a waist-mounted smartphone with embedded inertial sensors. The objective is to classify activities into one of the six activities performed.  \n",
    "\n",
    "### Description of experiment\n",
    "The experiments have been carried out with a group of 30 volunteers within an age bracket of 19-48 years. Each person performed six activities (WALKING, WALKINGUPSTAIRS, WALKINGDOWNSTAIRS, SITTING, STANDING, LAYING) wearing a smartphone (Samsung Galaxy S II) on the waist. Using its embedded accelerometer and gyroscope, we captured 3-axial linear acceleration and 3-axial angular velocity at a constant rate of 50Hz. The experiments have been video-recorded to label the data manually. The obtained dataset has been randomly partitioned into two sets, where 70% of the volunteers was selected for generating the training data and 30% the test data.\n",
    "\n",
    "The sensor signals (accelerometer and gyroscope) were pre-processed by applying noise filters and then sampled in fixed-width sliding windows of 2.56 sec and 50% overlap (128 readings/window). The sensor acceleration signal, which has gravitational and body motion components, was separated using a Butterworth low-pass filter into body acceleration and gravity. The gravitational force is assumed to have only low frequency components, therefore a filter with 0.3 Hz cutoff frequency was used. From each window, a vector of features was obtained by calculating variables from the time and frequency domain.\n",
    "\n",
    "### Attribute information\n",
    "For each record in the dataset the following is provided:\n",
    "\n",
    "- Triaxial acceleration from the accelerometer (total acceleration) and the estimated body acceleration.\n",
    "\n",
    "- Triaxial Angular velocity from the gyroscope.\n",
    "\n",
    "- A 561-feature vector with time and frequency domain variables.\n",
    "\n",
    "- Its activity label.\n",
    "\n",
    "- An identifier of the subject who carried out the experiment."
   ]
  },
  {
   "cell_type": "code",
   "execution_count": 1,
   "metadata": {},
   "outputs": [],
   "source": [
    "import pandas as pd\n",
    "from sklearn.ensemble import *\n",
    "from sklearn.tree import *\n",
    "import numpy as np\n",
    "import matplotlib.pyplot as plt\n",
    "from sklearn.feature_selection import *\n",
    "from sklearn.model_selection import train_test_split\n",
    "\n",
    "from sklearn.naive_bayes import *\n",
    "from sklearn.svm import *\n",
    "from sklearn.neighbors import *\n",
    "from sklearn.tree import *\n",
    "from sklearn.metrics import *"
   ]
  },
  {
   "cell_type": "code",
   "execution_count": 2,
   "metadata": {},
   "outputs": [
    {
     "data": {
      "text/html": [
       "<div>\n",
       "<style scoped>\n",
       "    .dataframe tbody tr th:only-of-type {\n",
       "        vertical-align: middle;\n",
       "    }\n",
       "\n",
       "    .dataframe tbody tr th {\n",
       "        vertical-align: top;\n",
       "    }\n",
       "\n",
       "    .dataframe thead th {\n",
       "        text-align: right;\n",
       "    }\n",
       "</style>\n",
       "<table border=\"1\" class=\"dataframe\">\n",
       "  <thead>\n",
       "    <tr style=\"text-align: right;\">\n",
       "      <th></th>\n",
       "      <th>tBodyAcc-mean()-X</th>\n",
       "      <th>tBodyAcc-mean()-Y</th>\n",
       "      <th>tBodyAcc-mean()-Z</th>\n",
       "      <th>tBodyAcc-std()-X</th>\n",
       "      <th>tBodyAcc-std()-Y</th>\n",
       "      <th>tBodyAcc-std()-Z</th>\n",
       "      <th>tBodyAcc-mad()-X</th>\n",
       "      <th>tBodyAcc-mad()-Y</th>\n",
       "      <th>tBodyAcc-mad()-Z</th>\n",
       "      <th>tBodyAcc-max()-X</th>\n",
       "      <th>...</th>\n",
       "      <th>fBodyBodyGyroJerkMag-kurtosis()</th>\n",
       "      <th>angle(tBodyAccMean,gravity)</th>\n",
       "      <th>angle(tBodyAccJerkMean),gravityMean)</th>\n",
       "      <th>angle(tBodyGyroMean,gravityMean)</th>\n",
       "      <th>angle(tBodyGyroJerkMean,gravityMean)</th>\n",
       "      <th>angle(X,gravityMean)</th>\n",
       "      <th>angle(Y,gravityMean)</th>\n",
       "      <th>angle(Z,gravityMean)</th>\n",
       "      <th>subject</th>\n",
       "      <th>Activity</th>\n",
       "    </tr>\n",
       "  </thead>\n",
       "  <tbody>\n",
       "    <tr>\n",
       "      <th>0</th>\n",
       "      <td>0.288585</td>\n",
       "      <td>-0.020294</td>\n",
       "      <td>-0.132905</td>\n",
       "      <td>-0.995279</td>\n",
       "      <td>-0.983111</td>\n",
       "      <td>-0.913526</td>\n",
       "      <td>-0.995112</td>\n",
       "      <td>-0.983185</td>\n",
       "      <td>-0.923527</td>\n",
       "      <td>-0.934724</td>\n",
       "      <td>...</td>\n",
       "      <td>-0.710304</td>\n",
       "      <td>-0.112754</td>\n",
       "      <td>0.030400</td>\n",
       "      <td>-0.464761</td>\n",
       "      <td>-0.018446</td>\n",
       "      <td>-0.841247</td>\n",
       "      <td>0.179941</td>\n",
       "      <td>-0.058627</td>\n",
       "      <td>1</td>\n",
       "      <td>STANDING</td>\n",
       "    </tr>\n",
       "    <tr>\n",
       "      <th>1</th>\n",
       "      <td>0.278419</td>\n",
       "      <td>-0.016411</td>\n",
       "      <td>-0.123520</td>\n",
       "      <td>-0.998245</td>\n",
       "      <td>-0.975300</td>\n",
       "      <td>-0.960322</td>\n",
       "      <td>-0.998807</td>\n",
       "      <td>-0.974914</td>\n",
       "      <td>-0.957686</td>\n",
       "      <td>-0.943068</td>\n",
       "      <td>...</td>\n",
       "      <td>-0.861499</td>\n",
       "      <td>0.053477</td>\n",
       "      <td>-0.007435</td>\n",
       "      <td>-0.732626</td>\n",
       "      <td>0.703511</td>\n",
       "      <td>-0.844788</td>\n",
       "      <td>0.180289</td>\n",
       "      <td>-0.054317</td>\n",
       "      <td>1</td>\n",
       "      <td>STANDING</td>\n",
       "    </tr>\n",
       "    <tr>\n",
       "      <th>2</th>\n",
       "      <td>0.279653</td>\n",
       "      <td>-0.019467</td>\n",
       "      <td>-0.113462</td>\n",
       "      <td>-0.995380</td>\n",
       "      <td>-0.967187</td>\n",
       "      <td>-0.978944</td>\n",
       "      <td>-0.996520</td>\n",
       "      <td>-0.963668</td>\n",
       "      <td>-0.977469</td>\n",
       "      <td>-0.938692</td>\n",
       "      <td>...</td>\n",
       "      <td>-0.760104</td>\n",
       "      <td>-0.118559</td>\n",
       "      <td>0.177899</td>\n",
       "      <td>0.100699</td>\n",
       "      <td>0.808529</td>\n",
       "      <td>-0.848933</td>\n",
       "      <td>0.180637</td>\n",
       "      <td>-0.049118</td>\n",
       "      <td>1</td>\n",
       "      <td>STANDING</td>\n",
       "    </tr>\n",
       "    <tr>\n",
       "      <th>3</th>\n",
       "      <td>0.279174</td>\n",
       "      <td>-0.026201</td>\n",
       "      <td>-0.123283</td>\n",
       "      <td>-0.996091</td>\n",
       "      <td>-0.983403</td>\n",
       "      <td>-0.990675</td>\n",
       "      <td>-0.997099</td>\n",
       "      <td>-0.982750</td>\n",
       "      <td>-0.989302</td>\n",
       "      <td>-0.938692</td>\n",
       "      <td>...</td>\n",
       "      <td>-0.482845</td>\n",
       "      <td>-0.036788</td>\n",
       "      <td>-0.012892</td>\n",
       "      <td>0.640011</td>\n",
       "      <td>-0.485366</td>\n",
       "      <td>-0.848649</td>\n",
       "      <td>0.181935</td>\n",
       "      <td>-0.047663</td>\n",
       "      <td>1</td>\n",
       "      <td>STANDING</td>\n",
       "    </tr>\n",
       "    <tr>\n",
       "      <th>4</th>\n",
       "      <td>0.276629</td>\n",
       "      <td>-0.016570</td>\n",
       "      <td>-0.115362</td>\n",
       "      <td>-0.998139</td>\n",
       "      <td>-0.980817</td>\n",
       "      <td>-0.990482</td>\n",
       "      <td>-0.998321</td>\n",
       "      <td>-0.979672</td>\n",
       "      <td>-0.990441</td>\n",
       "      <td>-0.942469</td>\n",
       "      <td>...</td>\n",
       "      <td>-0.699205</td>\n",
       "      <td>0.123320</td>\n",
       "      <td>0.122542</td>\n",
       "      <td>0.693578</td>\n",
       "      <td>-0.615971</td>\n",
       "      <td>-0.847865</td>\n",
       "      <td>0.185151</td>\n",
       "      <td>-0.043892</td>\n",
       "      <td>1</td>\n",
       "      <td>STANDING</td>\n",
       "    </tr>\n",
       "  </tbody>\n",
       "</table>\n",
       "<p>5 rows × 563 columns</p>\n",
       "</div>"
      ],
      "text/plain": [
       "   tBodyAcc-mean()-X  tBodyAcc-mean()-Y  tBodyAcc-mean()-Z  tBodyAcc-std()-X  \\\n",
       "0           0.288585          -0.020294          -0.132905         -0.995279   \n",
       "1           0.278419          -0.016411          -0.123520         -0.998245   \n",
       "2           0.279653          -0.019467          -0.113462         -0.995380   \n",
       "3           0.279174          -0.026201          -0.123283         -0.996091   \n",
       "4           0.276629          -0.016570          -0.115362         -0.998139   \n",
       "\n",
       "   tBodyAcc-std()-Y  tBodyAcc-std()-Z  tBodyAcc-mad()-X  tBodyAcc-mad()-Y  \\\n",
       "0         -0.983111         -0.913526         -0.995112         -0.983185   \n",
       "1         -0.975300         -0.960322         -0.998807         -0.974914   \n",
       "2         -0.967187         -0.978944         -0.996520         -0.963668   \n",
       "3         -0.983403         -0.990675         -0.997099         -0.982750   \n",
       "4         -0.980817         -0.990482         -0.998321         -0.979672   \n",
       "\n",
       "   tBodyAcc-mad()-Z  tBodyAcc-max()-X  ...  fBodyBodyGyroJerkMag-kurtosis()  \\\n",
       "0         -0.923527         -0.934724  ...                        -0.710304   \n",
       "1         -0.957686         -0.943068  ...                        -0.861499   \n",
       "2         -0.977469         -0.938692  ...                        -0.760104   \n",
       "3         -0.989302         -0.938692  ...                        -0.482845   \n",
       "4         -0.990441         -0.942469  ...                        -0.699205   \n",
       "\n",
       "   angle(tBodyAccMean,gravity)  angle(tBodyAccJerkMean),gravityMean)  \\\n",
       "0                    -0.112754                              0.030400   \n",
       "1                     0.053477                             -0.007435   \n",
       "2                    -0.118559                              0.177899   \n",
       "3                    -0.036788                             -0.012892   \n",
       "4                     0.123320                              0.122542   \n",
       "\n",
       "   angle(tBodyGyroMean,gravityMean)  angle(tBodyGyroJerkMean,gravityMean)  \\\n",
       "0                         -0.464761                             -0.018446   \n",
       "1                         -0.732626                              0.703511   \n",
       "2                          0.100699                              0.808529   \n",
       "3                          0.640011                             -0.485366   \n",
       "4                          0.693578                             -0.615971   \n",
       "\n",
       "   angle(X,gravityMean)  angle(Y,gravityMean)  angle(Z,gravityMean)  subject  \\\n",
       "0             -0.841247              0.179941             -0.058627        1   \n",
       "1             -0.844788              0.180289             -0.054317        1   \n",
       "2             -0.848933              0.180637             -0.049118        1   \n",
       "3             -0.848649              0.181935             -0.047663        1   \n",
       "4             -0.847865              0.185151             -0.043892        1   \n",
       "\n",
       "   Activity  \n",
       "0  STANDING  \n",
       "1  STANDING  \n",
       "2  STANDING  \n",
       "3  STANDING  \n",
       "4  STANDING  \n",
       "\n",
       "[5 rows x 563 columns]"
      ]
     },
     "execution_count": 2,
     "metadata": {},
     "output_type": "execute_result"
    }
   ],
   "source": [
    "df = pd.read_csv(\"train.csv\")\n",
    "df.head()"
   ]
  },
  {
   "cell_type": "markdown",
   "metadata": {},
   "source": [
    "### % of Different categories\n",
    "As the percentage is roughly equal, hence we can consider it to a balanced dataset."
   ]
  },
  {
   "cell_type": "code",
   "execution_count": 3,
   "metadata": {},
   "outputs": [
    {
     "data": {
      "text/plain": [
       "Activity\n",
       "LAYING                1407\n",
       "SITTING               1286\n",
       "STANDING              1374\n",
       "WALKING               1226\n",
       "WALKING_DOWNSTAIRS     986\n",
       "WALKING_UPSTAIRS      1073\n",
       "Name: Activity, dtype: int64"
      ]
     },
     "execution_count": 3,
     "metadata": {},
     "output_type": "execute_result"
    }
   ],
   "source": [
    "df['Activity'].groupby(df['Activity']).count()"
   ]
  },
  {
   "cell_type": "code",
   "execution_count": 4,
   "metadata": {},
   "outputs": [
    {
     "data": {
      "image/png": "[encoded data removed]",
      "text/plain": [
       "<Figure size 432x288 with 1 Axes>"
      ]
     },
     "metadata": {},
     "output_type": "display_data"
    }
   ],
   "source": [
    "activity = df['Activity'].groupby(df['Activity']).count().index\n",
    "activity_data = df['Activity'].groupby(df['Activity']).count().values\n",
    "colors = [\"#1f77b4\", \"#ff7f0e\", \"#2ca02c\", \"#d62728\", \"#8c564b\",\"#a4d321\"]\n",
    "plt.pie(activity_data, labels=activity,  colors=colors , autopct='%1.1f%%', shadow=True, startangle=140)\n",
    "plt.title(\"% of Different categories\")\n",
    "plt.show()"
   ]
  },
  {
   "cell_type": "markdown",
   "metadata": {},
   "source": [
    "### Checking the number of null values"
   ]
  },
  {
   "cell_type": "code",
   "execution_count": 5,
   "metadata": {},
   "outputs": [
    {
     "name": "stdout",
     "output_type": "stream",
     "text": [
      "tBodyAcc-mean()-X       0\n",
      "tBodyAcc-mean()-Y       0\n",
      "tBodyAcc-mean()-Z       0\n",
      "tBodyAcc-std()-X        0\n",
      "tBodyAcc-std()-Y        0\n",
      "                       ..\n",
      "angle(X,gravityMean)    0\n",
      "angle(Y,gravityMean)    0\n",
      "angle(Z,gravityMean)    0\n",
      "subject                 0\n",
      "Activity                0\n",
      "Length: 563, dtype: int64\n"
     ]
    }
   ],
   "source": [
    "print(df.isna().sum())"
   ]
  },
  {
   "cell_type": "code",
   "execution_count": 6,
   "metadata": {},
   "outputs": [],
   "source": [
    "x = df.drop(['Activity'],axis=1)\n",
    "y = df['Activity']"
   ]
  },
  {
   "cell_type": "markdown",
   "metadata": {},
   "source": [
    "### Trying reducing number of features"
   ]
  },
  {
   "cell_type": "code",
   "execution_count": 7,
   "metadata": {},
   "outputs": [
    {
     "data": {
      "text/html": [
       "<div>\n",
       "<style scoped>\n",
       "    .dataframe tbody tr th:only-of-type {\n",
       "        vertical-align: middle;\n",
       "    }\n",
       "\n",
       "    .dataframe tbody tr th {\n",
       "        vertical-align: top;\n",
       "    }\n",
       "\n",
       "    .dataframe thead th {\n",
       "        text-align: right;\n",
       "    }\n",
       "</style>\n",
       "<table border=\"1\" class=\"dataframe\">\n",
       "  <thead>\n",
       "    <tr style=\"text-align: right;\">\n",
       "      <th></th>\n",
       "      <th>0</th>\n",
       "    </tr>\n",
       "  </thead>\n",
       "  <tbody>\n",
       "    <tr>\n",
       "      <th>fBodyBodyAccJerkMag-entropy()</th>\n",
       "      <td>0.000042</td>\n",
       "    </tr>\n",
       "    <tr>\n",
       "      <th>fBodyBodyGyroJerkMag-min()</th>\n",
       "      <td>0.000066</td>\n",
       "    </tr>\n",
       "    <tr>\n",
       "      <th>fBodyAccJerk-bandsEnergy()-57,64.2</th>\n",
       "      <td>0.000072</td>\n",
       "    </tr>\n",
       "    <tr>\n",
       "      <th>fBodyAcc-bandsEnergy()-49,56</th>\n",
       "      <td>0.000084</td>\n",
       "    </tr>\n",
       "    <tr>\n",
       "      <th>fBodyAccJerk-bandsEnergy()-49,64</th>\n",
       "      <td>0.000085</td>\n",
       "    </tr>\n",
       "  </tbody>\n",
       "</table>\n",
       "</div>"
      ],
      "text/plain": [
       "                                           0\n",
       "fBodyBodyAccJerkMag-entropy()       0.000042\n",
       "fBodyBodyGyroJerkMag-min()          0.000066\n",
       "fBodyAccJerk-bandsEnergy()-57,64.2  0.000072\n",
       "fBodyAcc-bandsEnergy()-49,56        0.000084\n",
       "fBodyAccJerk-bandsEnergy()-49,64    0.000085"
      ]
     },
     "execution_count": 7,
     "metadata": {},
     "output_type": "execute_result"
    }
   ],
   "source": [
    "clf = RandomForestClassifier()\n",
    "clf.fit(x,y)\n",
    "features = pd.DataFrame(clf.feature_importances_,index=x.columns).sort_values(by=0)\n",
    "features.head()"
   ]
  },
  {
   "cell_type": "code",
   "execution_count": 8,
   "metadata": {},
   "outputs": [
    {
     "data": {
      "text/plain": [
       "<matplotlib.axes._subplots.AxesSubplot at 0x7f6058dcc160>"
      ]
     },
     "execution_count": 8,
     "metadata": {},
     "output_type": "execute_result"
    },
    {
     "data": {
      "image/png": "[encoded data removed]",
      "text/plain": [
       "<Figure size 432x288 with 1 Axes>"
      ]
     },
     "metadata": {
      "needs_background": "light"
     },
     "output_type": "display_data"
    }
   ],
   "source": [
    "features.plot()"
   ]
  },
  {
   "cell_type": "markdown",
   "metadata": {},
   "source": [
    "### Chosing important features"
   ]
  },
  {
   "cell_type": "code",
   "execution_count": 9,
   "metadata": {
    "scrolled": false
   },
   "outputs": [
    {
     "data": {
      "text/plain": [
       "array(['fBodyBodyAccJerkMag-entropy()', 'fBodyBodyGyroJerkMag-min()',\n",
       "       'fBodyAccJerk-bandsEnergy()-57,64.2',\n",
       "       'fBodyAcc-bandsEnergy()-49,56', 'fBodyAccJerk-bandsEnergy()-49,64',\n",
       "       'fBodyAcc-bandsEnergy()-41,48.2', 'tBodyAccMag-min()',\n",
       "       'fBodyBodyAccJerkMag-maxInds', 'tBodyAccJerk-arCoeff()-X,3',\n",
       "       'fBodyAccJerk-entropy()-Y', 'fBodyAcc-bandsEnergy()-33,48.1',\n",
       "       'tBodyAccMag-arCoeff()4', 'tBodyAccJerkMag-arCoeff()3',\n",
       "       'fBodyAcc-bandsEnergy()-33,40', 'fBodyAcc-min()-X',\n",
       "       'tBodyAccJerk-mean()-Z', 'fBodyAcc-bandsEnergy()-57,64.2',\n",
       "       'fBodyAccJerk-min()-Y', 'fBodyBodyGyroJerkMag-mean()',\n",
       "       'tBodyAccJerk-arCoeff()-Y,1', 'fBodyAccJerk-bandsEnergy()-57,64',\n",
       "       'tBodyGyro-arCoeff()-Z,1', 'fBodyAccJerk-min()-Z',\n",
       "       'angle(tBodyAccJerkMean),gravityMean)', 'fBodyAcc-min()-Y',\n",
       "       'fBodyAccJerk-bandsEnergy()-41,48', 'tBodyAcc-arCoeff()-Y,3',\n",
       "       'fBodyAcc-bandsEnergy()-49,64.1', 'tBodyAcc-arCoeff()-Z,2',\n",
       "       'fBodyGyro-bandsEnergy()-49,64.1', 'tBodyGyro-arCoeff()-Z,2',\n",
       "       'fBodyAcc-maxInds-Z', 'fBodyAccJerk-bandsEnergy()-49,56',\n",
       "       'tBodyAccMag-entropy()', 'fBodyAccJerk-bandsEnergy()-49,64.1',\n",
       "       'tBodyAccJerkMag-min()', 'fBodyGyro-bandsEnergy()-41,48.1',\n",
       "       'tBodyAccJerk-mean()-X', 'fBodyAcc-bandsEnergy()-57,64.1',\n",
       "       'fBodyAccJerk-bandsEnergy()-33,40.1',\n",
       "       'fBodyAcc-bandsEnergy()-33,40.1', 'fBodyAccMag-kurtosis()',\n",
       "       'tBodyAcc-arCoeff()-X,3', 'tBodyAccJerkMag-arCoeff()1',\n",
       "       'tBodyGyroJerkMag-arCoeff()3', 'fBodyAcc-entropy()-Y',\n",
       "       'fBodyGyro-bandsEnergy()-57,64.1', 'fBodyAcc-mean()-Y',\n",
       "       'fBodyAccJerk-bandsEnergy()-49,56.1',\n",
       "       'fBodyAccJerk-bandsEnergy()-17,32', 'tBodyGyroJerkMag-arCoeff()4',\n",
       "       'tBodyGyroJerk-entropy()-Y', 'fBodyAccJerk-bandsEnergy()-57,64.1',\n",
       "       'fBodyAccJerk-kurtosis()-Z', 'fBodyAcc-iqr()-Y',\n",
       "       'tBodyGyroJerkMag-min()', 'tBodyAccJerk-mean()-Y',\n",
       "       'tBodyGyro-arCoeff()-X,3', 'fBodyGyro-min()-Y',\n",
       "       'tBodyGyroJerk-arCoeff()-Y,3', 'tBodyAcc-mean()-Z',\n",
       "       'fBodyAcc-bandsEnergy()-49,64.2', 'fBodyAccJerk-min()-X',\n",
       "       'tBodyGyroJerk-arCoeff()-X,4', 'tBodyGyroJerkMag-arCoeff()2',\n",
       "       'fBodyGyro-bandsEnergy()-49,56.1', 'tGravityAccMag-entropy()',\n",
       "       'fBodyAccJerk-bandsEnergy()-33,40.2',\n",
       "       'fBodyAccJerk-bandsEnergy()-33,40', 'fBodyAccJerk-kurtosis()-X',\n",
       "       'fBodyBodyGyroMag-energy()', 'tBodyGyro-arCoeff()-Y,3',\n",
       "       'tGravityAccMag-arCoeff()3', 'fBodyAccJerk-bandsEnergy()-41,48.1',\n",
       "       'tGravityAccMag-min()', 'fBodyAccJerk-bandsEnergy()-33,48.1',\n",
       "       'angle(tBodyAccMean,gravity)', 'tBodyAcc-mean()-X',\n",
       "       'fBodyAccJerk-iqr()-Y', 'tBodyGyroMag-sma()',\n",
       "       'fBodyAccJerk-skewness()-Y', 'fBodyAccJerk-bandsEnergy()-25,32',\n",
       "       'fBodyBodyGyroJerkMag-maxInds', 'tBodyAcc-entropy()-Z',\n",
       "       'fBodyAcc-bandsEnergy()-41,48', 'fBodyAcc-bandsEnergy()-33,48.2',\n",
       "       'fBodyAcc-mean()-Z', 'tBodyGyro-arCoeff()-X,2',\n",
       "       'tBodyAcc-arCoeff()-Z,3', 'fBodyBodyGyroJerkMag-iqr()',\n",
       "       'fBodyAcc-bandsEnergy()-49,64', 'fBodyAcc-bandsEnergy()-25,32.1',\n",
       "       'fBodyAccMag-skewness()', 'fBodyAcc-bandsEnergy()-33,48',\n",
       "       'tBodyAccJerk-arCoeff()-Y,2', 'fBodyBodyAccJerkMag-iqr()',\n",
       "       'tBodyAccJerk-arCoeff()-X,2', 'tBodyGyroJerkMag-arCoeff()1',\n",
       "       'fBodyBodyGyroJerkMag-entropy()', 'fBodyAcc-bandsEnergy()-49,56.2',\n",
       "       'tBodyGyroJerk-arCoeff()-Z,2', 'fBodyAccJerk-skewness()-Z',\n",
       "       'tBodyGyroJerk-arCoeff()-Z,1', 'fBodyBodyAccJerkMag-meanFreq()',\n",
       "       'fBodyAccJerk-maxInds-Y', 'tGravityAccMag-arCoeff()4',\n",
       "       'fBodyAccJerk-bandsEnergy()-49,64.2', 'fBodyBodyAccJerkMag-min()',\n",
       "       'fBodyBodyGyroMag-min()', 'fBodyAcc-bandsEnergy()-49,56.1',\n",
       "       'tBodyGyroJerk-arCoeff()-Z,3', 'tBodyAcc-arCoeff()-X,4',\n",
       "       'fBodyAccJerk-bandsEnergy()-1,24.2', 'fBodyBodyGyroMag-mean()',\n",
       "       'fBodyAccJerk-bandsEnergy()-41,48.2', 'fBodyGyro-min()-X',\n",
       "       'tBodyAcc-arCoeff()-Y,2', 'tBodyAcc-min()-Z',\n",
       "       'tBodyAccJerk-arCoeff()-Y,3', 'tBodyGyro-arCoeff()-Z,3',\n",
       "       'fBodyAccJerk-max()-Y', 'fBodyAcc-bandsEnergy()-9,16.1',\n",
       "       'tBodyAcc-arCoeff()-X,2', 'fBodyAcc-bandsEnergy()-25,48.1',\n",
       "       'tBodyGyroMag-arCoeff()3', 'fBodyGyro-bandsEnergy()-9,16.1',\n",
       "       'fBodyAcc-bandsEnergy()-41,48.1', 'tBodyGyroMag-max()',\n",
       "       'tGravityAcc-iqr()-Z', 'fBodyGyro-bandsEnergy()-49,64',\n",
       "       'fBodyGyro-bandsEnergy()-25,48.1',\n",
       "       'fBodyAccJerk-bandsEnergy()-33,48.2', 'tBodyAcc-mean()-Y',\n",
       "       'tBodyGyroMag-std()', 'fBodyAccJerk-bandsEnergy()-49,56.2',\n",
       "       'tBodyGyro-arCoeff()-Y,2', 'fBodyAccJerk-meanFreq()-Y',\n",
       "       'fBodyAcc-min()-Z', 'fBodyBodyGyroMag-entropy()',\n",
       "       'tBodyGyroJerk-mean()-Y', 'tBodyAcc-arCoeff()-Z,1',\n",
       "       'fBodyAcc-bandsEnergy()-9,16.2', 'tBodyAccJerkMag-arCoeff()4',\n",
       "       'tBodyAccJerk-arCoeff()-Z,3', 'fBodyBodyGyroMag-iqr()',\n",
       "       'fBodyGyro-bandsEnergy()-33,40', 'tBodyAcc-arCoeff()-Y,4',\n",
       "       'fBodyAccMag-maxInds', 'tBodyGyroJerk-max()-Y',\n",
       "       'fBodyGyro-bandsEnergy()-41,48.2', 'tBodyAcc-max()-Y',\n",
       "       'fBodyGyro-bandsEnergy()-41,48', 'fBodyAccJerk-entropy()-Z',\n",
       "       'fBodyAccJerk-kurtosis()-Y', 'fBodyAccJerk-skewness()-X',\n",
       "       'fBodyAcc-iqr()-Z', 'tBodyAccJerk-std()-Y',\n",
       "       'fBodyAcc-bandsEnergy()-25,32', 'fBodyAcc-bandsEnergy()-17,32',\n",
       "       'fBodyAcc-bandsEnergy()-17,24', 'fBodyAccMag-min()',\n",
       "       'fBodyBodyGyroJerkMag-mad()', 'fBodyBodyGyroJerkMag-meanFreq()',\n",
       "       'tBodyAccJerk-arCoeff()-Y,4', 'fBodyBodyGyroMag-sma()',\n",
       "       'fBodyBodyGyroMag-kurtosis()', 'tBodyAccJerk-arCoeff()-Z,2',\n",
       "       'tBodyAccJerkMag-arCoeff()2', 'tBodyAccJerk-arCoeff()-X,1',\n",
       "       'fBodyBodyGyroMag-skewness()', 'fBodyGyro-bandsEnergy()-33,48.1',\n",
       "       'tBodyAccJerk-iqr()-Z', 'tBodyGyro-min()-Y',\n",
       "       'fBodyAccJerk-bandsEnergy()-25,48.1',\n",
       "       'fBodyGyro-bandsEnergy()-33,48.2', 'tBodyAcc-arCoeff()-Y,1',\n",
       "       'tBodyGyro-arCoeff()-Y,4', 'tBodyGyroJerk-arCoeff()-Y,2',\n",
       "       'fBodyGyro-bandsEnergy()-49,56.2', 'tBodyAccJerkMag-max()',\n",
       "       'tBodyAccMag-sma()', 'tBodyGyroJerkMag-mad()',\n",
       "       'fBodyAccJerk-bandsEnergy()-25,48', 'tBodyAccJerk-std()-Z',\n",
       "       'tBodyAcc-iqr()-Z', 'tBodyGyroMag-arCoeff()4',\n",
       "       'fBodyAccJerk-iqr()-Z', 'tBodyAccMag-arCoeff()3',\n",
       "       'fBodyGyro-bandsEnergy()-57,64.2', 'tBodyGyroJerk-arCoeff()-Y,1',\n",
       "       'fBodyAccJerk-meanFreq()-X', 'fBodyGyro-bandsEnergy()-33,40.1',\n",
       "       'fBodyAcc-bandsEnergy()-33,40.2', 'fBodyBodyGyroMag-std()',\n",
       "       'fBodyGyro-meanFreq()-Z', 'fBodyGyro-bandsEnergy()-25,32.1',\n",
       "       'fBodyAcc-kurtosis()-Z', 'tBodyGyroJerk-min()-Z',\n",
       "       'tBodyGyroJerkMag-mean()', 'fBodyAcc-bandsEnergy()-25,48',\n",
       "       'tBodyAccJerk-min()-X', 'tBodyGyro-max()-Z',\n",
       "       'fBodyGyro-bandsEnergy()-57,64', 'fBodyBodyGyroMag-mad()',\n",
       "       'fBodyBodyGyroJerkMag-sma()', 'fBodyAccJerk-bandsEnergy()-9,16.1',\n",
       "       'fBodyAcc-bandsEnergy()-57,64', 'tBodyGyroJerk-arCoeff()-Y,4',\n",
       "       'fBodyGyro-bandsEnergy()-17,24.1', 'tBodyAccJerk-min()-Y',\n",
       "       'tBodyAcc-arCoeff()-Z,4', 'tBodyAcc-mad()-Z',\n",
       "       'fBodyAccJerk-bandsEnergy()-33,48', 'tBodyGyroJerk-mean()-Z',\n",
       "       'fBodyBodyGyroJerkMag-energy()',\n",
       "       'fBodyAccJerk-bandsEnergy()-17,24', 'fBodyAccJerk-max()-Z',\n",
       "       'tBodyGyro-arCoeff()-Z,4', 'fBodyGyro-bandsEnergy()-25,48.2',\n",
       "       'tBodyGyroJerkMag-max()', 'tBodyGyro-entropy()-Y',\n",
       "       'tBodyGyroJerk-mean()-X', 'fBodyAcc-mad()-Y',\n",
       "       'fBodyAccJerk-bandsEnergy()-25,32.1', 'fBodyGyro-min()-Z',\n",
       "       'tBodyGyro-entropy()-Z', 'fBodyAccJerk-bandsEnergy()-1,16.2',\n",
       "       'tBodyAccJerk-arCoeff()-Z,4', 'fBodyGyro-meanFreq()-Y',\n",
       "       'fBodyGyro-bandsEnergy()-33,40.2', 'fBodyBodyGyroJerkMag-std()',\n",
       "       'fBodyGyro-bandsEnergy()-49,56', 'tBodyGyroMag-arCoeff()2',\n",
       "       'tBodyGyroMag-iqr()', 'tBodyGyroMag-mad()', 'fBodyAcc-std()-Z',\n",
       "       'tBodyAcc-energy()-Z', 'fBodyAcc-entropy()-Z',\n",
       "       'tBodyAccJerk-max()-Y', 'tBodyAcc-energy()-Y',\n",
       "       'tBodyGyroJerk-arCoeff()-X,3', 'tBodyAcc-min()-Y',\n",
       "       'tBodyGyroMag-energy()', 'fBodyAccJerk-bandsEnergy()-25,48.2',\n",
       "       'tBodyGyroJerk-energy()-Z', 'tBodyAccJerk-arCoeff()-Z,1',\n",
       "       'fBodyGyro-bandsEnergy()-17,32.1', 'fBodyBodyGyroMag-max()',\n",
       "       'tBodyGyroJerkMag-std()', 'fBodyGyro-bandsEnergy()-9,16.2',\n",
       "       'tBodyAccJerk-energy()-Z', 'fBodyAccJerk-bandsEnergy()-9,16.2',\n",
       "       'tBodyAcc-max()-Z', 'tBodyGyroMag-min()', 'tBodyGyroJerk-iqr()-Y',\n",
       "       'fBodyAcc-maxInds-Y', 'tBodyAcc-entropy()-Y',\n",
       "       'fBodyAcc-bandsEnergy()-1,16.1', 'fBodyGyro-kurtosis()-X',\n",
       "       'tBodyGyroJerkMag-entropy()', 'tBodyAcc-std()-Z',\n",
       "       'fBodyAccJerk-mad()-Y', 'tBodyAccJerk-min()-Z',\n",
       "       'tBodyAccJerk-energy()-Y', 'tBodyGyroJerkMag-energy()',\n",
       "       'tBodyGyroJerk-arCoeff()-X,2', 'tBodyAccJerk-entropy()-Z',\n",
       "       'fBodyAcc-bandsEnergy()-1,24.1', 'tBodyAcc-std()-Y',\n",
       "       'fBodyAccJerk-mean()-Z', 'fBodyAcc-iqr()-X', 'fBodyAcc-energy()-Y',\n",
       "       'tBodyGyroJerk-min()-Y', 'fBodyAcc-mad()-Z',\n",
       "       'fBodyBodyGyroJerkMag-skewness()', 'tBodyGyroJerk-max()-Z',\n",
       "       'tBodyGyroMag-entropy()', 'tGravityAccMag-mean()',\n",
       "       'tBodyGyroJerk-mad()-Z', 'tBodyGyro-min()-Z',\n",
       "       'tBodyGyroJerk-energy()-Y', 'fBodyGyro-bandsEnergy()-25,32',\n",
       "       'tBodyGyro-mean()-Y', 'tBodyGyro-arCoeff()-X,4',\n",
       "       'tBodyGyroJerk-mad()-Y', 'fBodyGyro-bandsEnergy()-17,24.2',\n",
       "       'fBodyGyro-iqr()-Y', 'fBodyAcc-bandsEnergy()-25,48.2',\n",
       "       'tBodyAccJerk-correlation()-Y,Z', 'tBodyGyroJerk-arCoeff()-Z,4',\n",
       "       'fBodyBodyGyroJerkMag-kurtosis()', 'tBodyGyroMag-mean()',\n",
       "       'fBodyAccJerk-bandsEnergy()-17,24.1', 'tBodyAccJerk-arCoeff()-X,4',\n",
       "       'fBodyGyro-mad()-Z', 'fBodyGyro-bandsEnergy()-33,48',\n",
       "       'tBodyGyroMag-arCoeff()1', 'fBodyBodyAccJerkMag-skewness()',\n",
       "       'fBodyGyro-bandsEnergy()-17,32.2', 'tBodyGyro-max()-Y',\n",
       "       'tGravityAccMag-iqr()', 'fBodyAcc-bandsEnergy()-1,24.2',\n",
       "       'fBodyGyro-bandsEnergy()-49,64.2', 'tBodyGyroJerk-std()-Y',\n",
       "       'fBodyGyro-bandsEnergy()-25,48', 'fBodyAcc-std()-Y',\n",
       "       'tBodyAcc-iqr()-Y', 'fBodyBodyAccJerkMag-kurtosis()',\n",
       "       'tBodyGyro-arCoeff()-Y,1', 'fBodyGyro-bandsEnergy()-1,16.2',\n",
       "       'tBodyAcc-mad()-Y', 'fBodyGyro-maxInds-Y',\n",
       "       'fBodyAccJerk-bandsEnergy()-1,8.2', 'tGravityAcc-entropy()-Z',\n",
       "       'tBodyGyroJerkMag-iqr()', 'angle(tBodyGyroJerkMean,gravityMean)',\n",
       "       'fBodyAcc-max()-Z', 'tGravityAcc-iqr()-Y', 'fBodyGyro-mean()-Y',\n",
       "       'tBodyGyroJerk-correlation()-X,Z', 'fBodyGyro-entropy()-Y',\n",
       "       'fBodyAcc-energy()-Z', 'tBodyGyro-iqr()-Y',\n",
       "       'tBodyAccJerk-correlation()-X,Z', 'fBodyGyro-bandsEnergy()-1,24.2',\n",
       "       'fBodyGyro-bandsEnergy()-25,32.2', 'tBodyAcc-arCoeff()-X,1',\n",
       "       'fBodyGyro-bandsEnergy()-17,32', 'fBodyAcc-bandsEnergy()-1,16.2',\n",
       "       'tBodyGyro-sma()', 'fBodyGyro-bandsEnergy()-1,16.1',\n",
       "       'tGravityAcc-std()-Z', 'fBodyAcc-maxInds-X',\n",
       "       'tGravityAcc-correlation()-X,Z', 'fBodyGyro-kurtosis()-Y',\n",
       "       'tGravityAccMag-energy()', 'tGravityAcc-mad()-Z',\n",
       "       'fBodyAccJerk-bandsEnergy()-17,32.1', 'fBodyGyro-skewness()-X',\n",
       "       'fBodyGyro-mad()-Y', 'fBodyAccJerk-bandsEnergy()-25,32.2',\n",
       "       'fBodyBodyGyroMag-maxInds', 'fBodyAcc-skewness()-Y',\n",
       "       'fBodyAcc-bandsEnergy()-25,32.2', 'tBodyAccJerk-mad()-Y',\n",
       "       'tBodyGyro-energy()-Y', 'tBodyAccJerk-max()-Z',\n",
       "       'fBodyGyro-energy()-Z', 'tBodyGyroJerk-correlation()-Y,Z',\n",
       "       'angle(tBodyGyroMean,gravityMean)',\n",
       "       'fBodyGyro-bandsEnergy()-1,24.1', 'fBodyAcc-max()-Y',\n",
       "       'fBodyAccJerk-energy()-Z', 'tBodyAcc-min()-X',\n",
       "       'fBodyGyro-skewness()-Z', 'fBodyAcc-meanFreq()-Y',\n",
       "       'fBodyAccJerk-mad()-Z', 'fBodyAcc-bandsEnergy()-17,32.1',\n",
       "       'fBodyGyro-iqr()-X', 'fBodyGyro-std()-Y', 'tBodyGyro-std()-Z',\n",
       "       'fBodyGyro-mean()-Z', 'tBodyAccMag-iqr()',\n",
       "       'fBodyBodyAccJerkMag-energy()', 'tBodyGyroJerk-correlation()-X,Y',\n",
       "       'fBodyAccJerk-bandsEnergy()-9,16', 'fBodyGyro-bandsEnergy()-1,8.2',\n",
       "       'tBodyGyroJerk-max()-X', 'fBodyAccJerk-meanFreq()-Z',\n",
       "       'fBodyAcc-bandsEnergy()-17,24.1', 'fBodyGyro-max()-Y',\n",
       "       'fBodyAcc-skewness()-Z', 'tBodyGyro-energy()-Z',\n",
       "       'fBodyGyro-bandsEnergy()-1,8.1', 'tBodyGyro-mean()-X',\n",
       "       'fBodyGyro-skewness()-Y', 'tBodyAccJerk-correlation()-X,Y',\n",
       "       'fBodyGyro-energy()-Y', 'fBodyAcc-bandsEnergy()-9,16',\n",
       "       'fBodyAccJerk-std()-Z', 'fBodyGyro-kurtosis()-Z',\n",
       "       'tBodyGyro-correlation()-X,Y', 'tBodyGyroJerk-entropy()-X',\n",
       "       'tBodyGyro-std()-Y', 'tBodyGyro-correlation()-X,Z',\n",
       "       'tBodyGyro-mean()-Z', 'subject', 'tBodyAccMag-mean()',\n",
       "       'fBodyGyro-bandsEnergy()-17,24', 'tBodyGyro-arCoeff()-X,1',\n",
       "       'fBodyGyro-std()-Z', 'fBodyBodyAccJerkMag-max()',\n",
       "       'fBodyBodyGyroMag-meanFreq()', 'fBodyGyro-max()-Z',\n",
       "       'tGravityAcc-std()-Y', 'fBodyAcc-kurtosis()-Y',\n",
       "       'fBodyAcc-bandsEnergy()-1,8.1', 'tBodyGyro-mad()-Z',\n",
       "       'tBodyGyroJerk-min()-X', 'tBodyGyroJerk-arCoeff()-X,1'],\n",
       "      dtype=object)"
      ]
     },
     "execution_count": 9,
     "metadata": {},
     "output_type": "execute_result"
    }
   ],
   "source": [
    "features = features.head(400).index.values\n",
    "features"
   ]
  },
  {
   "cell_type": "code",
   "execution_count": 10,
   "metadata": {},
   "outputs": [],
   "source": [
    "X1 = x.filter(items=features)"
   ]
  },
  {
   "cell_type": "markdown",
   "metadata": {},
   "source": [
    "### Training models on various classifiers"
   ]
  },
  {
   "cell_type": "code",
   "execution_count": 11,
   "metadata": {},
   "outputs": [],
   "source": [
    "X_train, X_test, y_train, y_test = train_test_split(x, y, test_size = 0.2, random_state = 42)\n",
    "X1_train, X1_test, y1_train, y1_test = train_test_split(X1, y, test_size = 0.2, random_state = 42)"
   ]
  },
  {
   "cell_type": "code",
   "execution_count": 12,
   "metadata": {},
   "outputs": [],
   "source": [
    "classifiers = [\n",
    "    KNeighborsClassifier(3),\n",
    "    SVC(kernel=\"rbf\",probability=True),\n",
    "    DecisionTreeClassifier(),\n",
    "    RandomForestClassifier(),\n",
    "    AdaBoostClassifier(),\n",
    "    GradientBoostingClassifier(),\n",
    "    GaussianNB()]"
   ]
  },
  {
   "cell_type": "code",
   "execution_count": 13,
   "metadata": {},
   "outputs": [],
   "source": [
    "def f_score(X_train, X_test, y_train, y_test):\n",
    "    for clf in classifiers:\n",
    "        clf.fit(X_train,y_train)\n",
    "        y_pred = clf.predict(X_test)\n",
    "        f = f1_score(y_true=y_test,y_pred=y_pred,average=\"macro\")\n",
    "        print(f,clf.__class__.__name__)"
   ]
  },
  {
   "cell_type": "markdown",
   "metadata": {},
   "source": [
    "## F1-Score\n",
    "\n",
    "Recall = TruePositives / (TruePositives + FalseNegatives)\n",
    "\n",
    "Precision = TruePositives / (TruePositives + FalsePositives)\n",
    "\n",
    "F1 = 2 (precision recall) / (precision + recall)"
   ]
  },
  {
   "cell_type": "markdown",
   "metadata": {},
   "source": [
    "### F1-Score of complete dataset"
   ]
  },
  {
   "cell_type": "code",
   "execution_count": 14,
   "metadata": {},
   "outputs": [
    {
     "name": "stdout",
     "output_type": "stream",
     "text": [
      "0.9747635809416267 KNeighborsClassifier\n",
      "0.9553363569986938 SVC\n",
      "0.9482979192962379 DecisionTreeClassifier\n",
      "0.9790716658081605 RandomForestClassifier\n",
      "0.3711702611702612 AdaBoostClassifier\n",
      "0.9896137103020436 GradientBoostingClassifier\n",
      "0.7352013646643126 GaussianNB\n"
     ]
    }
   ],
   "source": [
    "f_score(X_train, X_test, y_train, y_test)"
   ]
  },
  {
   "cell_type": "markdown",
   "metadata": {},
   "source": [
    "### F1-Score of selected features"
   ]
  },
  {
   "cell_type": "code",
   "execution_count": 15,
   "metadata": {},
   "outputs": [
    {
     "name": "stdout",
     "output_type": "stream",
     "text": [
      "0.9206410444189652 KNeighborsClassifier\n",
      "0.8393929034713912 SVC\n",
      "0.7947165947557632 DecisionTreeClassifier\n",
      "0.9223411491382513 RandomForestClassifier\n",
      "0.18267734679209277 AdaBoostClassifier\n",
      "0.9377325224996343 GradientBoostingClassifier\n",
      "0.5584100636064061 GaussianNB\n"
     ]
    }
   ],
   "source": [
    "f_score(X1_train, X1_test, y1_train, y1_test)"
   ]
  },
  {
   "cell_type": "markdown",
   "metadata": {},
   "source": [
    "### Stacking best classifiers"
   ]
  },
  {
   "cell_type": "code",
   "execution_count": 16,
   "metadata": {},
   "outputs": [],
   "source": [
    "estimators = [\n",
    "        ('rf' ,RandomForestClassifier(n_estimators=500, random_state = 42)),\n",
    "        ('knn',KNeighborsClassifier(3)),\n",
    "        ('DTC',DecisionTreeClassifier())\n",
    "]\n",
    "\n",
    "clf = StackingClassifier(\n",
    "    estimators=estimators, \n",
    "    final_estimator=GradientBoostingClassifier()\n",
    ")"
   ]
  },
  {
   "cell_type": "markdown",
   "metadata": {},
   "source": [
    "### Score for complete Dataset"
   ]
  },
  {
   "cell_type": "code",
   "execution_count": 17,
   "metadata": {},
   "outputs": [
    {
     "data": {
      "text/plain": [
       "0.9931806527813788"
      ]
     },
     "execution_count": 17,
     "metadata": {},
     "output_type": "execute_result"
    }
   ],
   "source": [
    "clf.fit(X_train,y_train)\n",
    "y_pred = clf.predict(X_test)\n",
    "f1_score(y_true=y_test,y_pred=y_pred,average=\"macro\")"
   ]
  },
  {
   "cell_type": "markdown",
   "metadata": {},
   "source": [
    "### Score for selected features"
   ]
  },
  {
   "cell_type": "code",
   "execution_count": 18,
   "metadata": {},
   "outputs": [
    {
     "data": {
      "text/plain": [
       "0.9615753806412318"
      ]
     },
     "execution_count": 18,
     "metadata": {},
     "output_type": "execute_result"
    }
   ],
   "source": [
    "clf.fit(X1_train,y1_train)\n",
    "y1_pred = clf.predict(X1_test)\n",
    "f1_score(y_true=y1_test,y_pred=y1_pred,average=\"macro\")"
   ]
  },
  {
   "cell_type": "markdown",
   "metadata": {},
   "source": [
    "In case a faster model is required we can go with selected features model with an accuracy of **96%** or slower model with an accuracy of **99%**."
   ]
  }
 ],
 "metadata": {
  "kernelspec": {
   "display_name": "Python 3",
   "language": "python",
   "name": "python3"
  },
  "language_info": {
   "codemirror_mode": {
    "name": "ipython",
    "version": 3
   },
   "file_extension": ".py",
   "mimetype": "text/x-python",
   "name": "python",
   "nbconvert_exporter": "python",
   "pygments_lexer": "ipython3",
   "version": "3.8.2"
  }
 },
 "nbformat": 4,
 "nbformat_minor": 4
}
